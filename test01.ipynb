{
 "cells": [
  {
   "cell_type": "code",
   "execution_count": 7,
   "metadata": {
    "collapsed": true
   },
   "outputs": [],
   "source": [
    "from langchain.document_loaders import PyPDFLoader\n",
    "from langchain.chains import RetrievalQA\n",
    "from langchain.embeddings import OpenAIEmbeddings\n",
    "from langchain.vectorstores import FAISS\n",
    "from langchain import OpenAI\n",
    "import os\n",
    "import fnmatch"
   ]
  },
  {
   "cell_type": "markdown",
   "source": [
    "### notes01:\n",
    "    PDF提取:该脚本使用PyPDF2从提供的PDF中提取文本。\n",
    "    矢量存储创建:然后使用FAISS创建矢量存储，并通过OpenAI生成嵌入。\n",
    "    基于rag的检索:使用LangChain的RetrievalQA，它根据特定的查询提取摘要、主体和摘要等部分。"
   ],
   "metadata": {
    "collapsed": false
   }
  },
  {
   "cell_type": "code",
   "execution_count": 8,
   "outputs": [],
   "source": [
    "# Initialize the OpenAI API key\n",
    "os.environ['OPENAI_API_KEY'] = 'your-openai-api-key'"
   ],
   "metadata": {
    "collapsed": false
   }
  },
  {
   "cell_type": "code",
   "execution_count": null,
   "outputs": [],
   "source": [
    "def load_pdf(file_path):\n",
    "    \"\"\"Loads PDF content using PyPDFLoader.\"\"\"\n",
    "    loader = PyPDFLoader(file_path)\n",
    "    documents = loader.load()\n",
    "    return documents"
   ],
   "metadata": {
    "collapsed": false
   }
  },
  {
   "cell_type": "code",
   "execution_count": null,
   "outputs": [],
   "source": [
    "def create_vectorstore(documents):\n",
    "    \"\"\"Create a vector store using the loaded documents.\"\"\"\n",
    "    embeddings = OpenAIEmbeddings()\n",
    "    vectorstore = FAISS.from_documents(documents, embeddings)\n",
    "    return vectorstore"
   ],
   "metadata": {
    "collapsed": false
   }
  },
  {
   "cell_type": "code",
   "execution_count": null,
   "outputs": [],
   "source": [
    "def extract_information(query, vectorstore):\n",
    "    \"\"\"Use LangChain's RetrievalQA to extract information based on the query.\"\"\"\n",
    "    qa_chain = RetrievalQA.from_chain_type(\n",
    "        llm=OpenAI(),\n",
    "        retriever=vectorstore.as_retriever()\n",
    "    )\n",
    "    result = qa_chain.run(query)\n",
    "    return result"
   ],
   "metadata": {
    "collapsed": false
   }
  },
  {
   "cell_type": "code",
   "execution_count": 4,
   "outputs": [],
   "source": [
    "def find_pdf_files(root_dir):\n",
    "    \"\"\"\n",
    "    该函数接收一个目录路径作为参数，并返回该目录及其子目录中所有PDF文件的绝对路径列表。\n",
    "\n",
    "    :param root_dir: 包含PDF文件的根目录路径\n",
    "    :return: PDF文件的绝对路径列表\n",
    "    \"\"\"\n",
    "    pdf_files = []\n",
    "\n",
    "    for dirpath, dirnames, filenames in os.walk(root_dir):\n",
    "        for filename in fnmatch.filter(filenames, '*.pdf'):\n",
    "            pdf_files.append(os.path.join(dirpath, filename))\n",
    "\n",
    "    return pdf_files"
   ],
   "metadata": {
    "collapsed": false
   }
  },
  {
   "cell_type": "code",
   "execution_count": null,
   "outputs": [],
   "source": [
    "# 该方法用于验证PDF文件数量是否不为0且在100个以内，并抛出异常,从而避免OOM。\n",
    "def validate_pdf_file(file_path):\n",
    "    if not file_path:\n",
    "        raise ValueError(\"No PDF files found in the directory.\")\n",
    "\n",
    "    if len(file_path) > 100:\n",
    "        raise ValueError(\"Too many PDF files found in the directory.\")"
   ],
   "metadata": {
    "collapsed": false
   }
  },
  {
   "cell_type": "code",
   "execution_count": 6,
   "outputs": [
    {
     "name": "stdout",
     "output_type": "stream",
     "text": [
      "file_path: ./ShuLiYou/Pd/pyrrole/Palladium-Catalyzed Asymmetric Intramolecular Dearomative Heck Reaction of Pyrrole Derivatives.pdf\n",
      "file_path: ./ShuLiYou/Pd/pyrrole/Palladium(0)-catalyzed intramolecular dearomative arylation of pyrroles.pdf\n",
      "file_path: ./ShuLiYou/Pd/pyrrole/Highly Regio- and Enantioselective Synthesis of Polysubstituted 2H‑Pyrroles via Pd-Catalyzed Intermolecular Asymmetric Allylic Dearomatization of Pyrroles.pdf\n",
      "file_path: ./ShuLiYou/Pd/pyrrole/Mechanistic Insights into the Pd-Catalyzed Intermolecular Asymmetric Allylic Dearomatization of Multisubstituted Pyrroles- Understanding the Remarkable Regio- and Enantioselectivity.pdf\n",
      "file_path: ./ShuLiYou/chiral/naphthol_photo/Asymmetric Dearomatization of b-Naphthols through an Amination Reaction Catalyzed by a Chiral Phosphoric Acid**.pdf\n",
      "file_path: ./ShuLiYou/chiral/naphthol_photo/Chiral phosphoric acid catalyzed aminative dearomatization of α-naphthols:Michael addition sequence.pdf\n",
      "file_path: ./ShuLiYou/chiral/naphthol_photo/Chiral phosphoric acid-catalyzed asymmetric dearomatization reactions..pdf\n",
      "file_path: ./ShuLiYou/chiral/naphthol_photo/Asymmetric Dearomatization of b-Naphthols through an Amination Reaction Catalyzed by a Chiral Phosphoric Acid.pdf\n",
      "file_path: ./ShuLiYou/chiral/indole_allylic/Asymmetric Friedel-Crafts Alkylation of IndolesThe Control of Enantio-and Regioselectivity.pdf\n",
      "file_path: ./ShuLiYou/Iridium/cascade/Enantioselective Synthesis of Indole-Annulated Medium-Sized Rings.pdf\n",
      "file_path: ./ShuLiYou/Iridium/cascade/Enantioselective Construction of Spiroindolines with Three Contiguous Stereogenic Centers and Chiral Tryptamine Derivatives via Reactive Spiroindolenine Intermediates.pdf\n"
     ]
    }
   ],
   "source": [
    "directory = './ShuLiYou'\n",
    "\n",
    "# 查找出所有PDF文件\n",
    "file_path_list = find_pdf_files(directory)\n",
    "\n",
    "validate_pdf_file(file_path_list)\n",
    "\n",
    "for file_path in file_path_list:\n",
    "    print(\"file_path:\", file_path)\n",
    "\n",
    "    # Step 1: Load PDF using PyPDFLoader\n",
    "    documents = load_pdf(file_path)\n",
    "\n",
    "    # Step 2: Create vectorstore for the loaded documents\n",
    "    vectorstore = create_vectorstore(documents)\n",
    "\n",
    "    # Step 3: Define the queries for abstract, body, and summary\n",
    "    queries = {\n",
    "        \"abstract\": \"Extract the abstract of the document.\",\n",
    "        \"body\": \"Extract the main body of the document.\",\n",
    "        \"summary\": \"Provide a summary of the document.\"\n",
    "    }\n",
    "\n",
    "    # Step 4: Extract information\n",
    "    extracted_info = {}\n",
    "    for key, query in queries.items():\n",
    "        extracted_info[key] = extract_information(query, vectorstore)\n",
    "\n",
    "    # Print the extracted information\n",
    "    for section, content in extracted_info.items():\n",
    "        print(f\"\\n--- {section.capitalize()} ---\\n\")\n",
    "        print(content)\n",
    "    break"
   ],
   "metadata": {
    "collapsed": false
   }
  },
  {
   "cell_type": "code",
   "execution_count": null,
   "outputs": [],
   "source": [],
   "metadata": {
    "collapsed": false
   }
  }
 ],
 "metadata": {
  "kernelspec": {
   "display_name": "Python 3",
   "language": "python",
   "name": "python3"
  },
  "language_info": {
   "codemirror_mode": {
    "name": "ipython",
    "version": 2
   },
   "file_extension": ".py",
   "mimetype": "text/x-python",
   "name": "python",
   "nbconvert_exporter": "python",
   "pygments_lexer": "ipython2",
   "version": "2.7.6"
  }
 },
 "nbformat": 4,
 "nbformat_minor": 0
}
